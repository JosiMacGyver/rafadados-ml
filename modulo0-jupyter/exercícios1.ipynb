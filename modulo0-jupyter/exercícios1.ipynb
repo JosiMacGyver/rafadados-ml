{
 "cells": [
  {
   "cell_type": "code",
   "execution_count": 10,
   "metadata": {},
   "outputs": [
    {
     "data": {
      "text/plain": [
       "False"
      ]
     },
     "execution_count": 10,
     "metadata": {},
     "output_type": "execute_result"
    }
   ],
   "source": [
    "idade = 37\n",
    "b=True\n",
    "\n",
    "if idade >20:\n",
    "    b = True\n",
    "else:\n",
    "    b =not True\n",
    "    \n",
    "b"
   ]
  },
  {
   "cell_type": "code",
   "execution_count": 11,
   "metadata": {},
   "outputs": [
    {
     "data": {
      "text/plain": [
       "True"
      ]
     },
     "execution_count": 11,
     "metadata": {},
     "output_type": "execute_result"
    }
   ],
   "source": [
    "idade = 42\n",
    "b=True\n",
    "\n",
    "if idade >= 42:\n",
    "    b = True\n",
    "else:\n",
    "    b =not True\n",
    "    \n",
    "b"
   ]
  },
  {
   "cell_type": "code",
   "execution_count": 12,
   "metadata": {},
   "outputs": [
    {
     "data": {
      "text/plain": [
       "False"
      ]
     },
     "execution_count": 12,
     "metadata": {},
     "output_type": "execute_result"
    }
   ],
   "source": [
    "idade = 28\n",
    "b=True\n",
    "\n",
    "if idade >28 :\n",
    "    b = True\n",
    "else:\n",
    "    b =not True\n",
    "    \n",
    "b"
   ]
  },
  {
   "cell_type": "code",
   "execution_count": 14,
   "metadata": {},
   "outputs": [
    {
     "data": {
      "text/plain": [
       "False"
      ]
     },
     "execution_count": 14,
     "metadata": {},
     "output_type": "execute_result"
    }
   ],
   "source": [
    "idade = 31\n",
    "b=True\n",
    "\n",
    "if idade != 31:\n",
    "    b = True\n",
    "else:\n",
    "    b =not True\n",
    "    \n",
    "b"
   ]
  },
  {
   "cell_type": "code",
   "execution_count": 15,
   "metadata": {},
   "outputs": [
    {
     "data": {
      "text/plain": [
       "True"
      ]
     },
     "execution_count": 15,
     "metadata": {},
     "output_type": "execute_result"
    }
   ],
   "source": [
    "idade = 42\n",
    "b=True\n",
    "\n",
    "if (idade>40 & idade<43):\n",
    "    b = True\n",
    "else:\n",
    "    b =not True\n",
    "    \n",
    "b"
   ]
  },
  {
   "cell_type": "code",
   "execution_count": 18,
   "metadata": {},
   "outputs": [
    {
     "data": {
      "text/plain": [
       "True"
      ]
     },
     "execution_count": 18,
     "metadata": {},
     "output_type": "execute_result"
    }
   ],
   "source": [
    "idade = 18\n",
    "b=True\n",
    "\n",
    "if (idade>15 | idade<20):\n",
    "    b = True\n",
    "else:\n",
    "    b =not True\n",
    "    \n",
    "b\n"
   ]
  },
  {
   "cell_type": "code",
   "execution_count": 19,
   "metadata": {},
   "outputs": [
    {
     "data": {
      "text/plain": [
       "True"
      ]
     },
     "execution_count": 19,
     "metadata": {},
     "output_type": "execute_result"
    }
   ],
   "source": [
    "idade = 18\n",
    "b=True\n",
    "\n",
    "if (idade>15 | idade<16):\n",
    "    b = True\n",
    "else:\n",
    "    b =not True\n",
    "    \n",
    "b\n"
   ]
  },
  {
   "cell_type": "code",
   "execution_count": 20,
   "metadata": {},
   "outputs": [
    {
     "data": {
      "text/plain": [
       "False"
      ]
     },
     "execution_count": 20,
     "metadata": {},
     "output_type": "execute_result"
    }
   ],
   "source": [
    "idade = 33\n",
    "b=True\n",
    "\n",
    "if (idade<30 & idade>20):\n",
    "    b = True\n",
    "else:\n",
    "    b =not True\n",
    "    \n",
    "b\n"
   ]
  },
  {
   "cell_type": "code",
   "execution_count": 21,
   "metadata": {},
   "outputs": [
    {
     "data": {
      "text/plain": [
       "False"
      ]
     },
     "execution_count": 21,
     "metadata": {},
     "output_type": "execute_result"
    }
   ],
   "source": [
    "idade = 40\n",
    "b=True\n",
    "\n",
    "if (idade>40 & idade<40):\n",
    "    b = True\n",
    "else:\n",
    "    b =not True\n",
    "    \n",
    "b\n"
   ]
  },
  {
   "cell_type": "code",
   "execution_count": 22,
   "metadata": {},
   "outputs": [
    {
     "data": {
      "text/plain": [
       "True"
      ]
     },
     "execution_count": 22,
     "metadata": {},
     "output_type": "execute_result"
    }
   ],
   "source": [
    "idade = 44\n",
    "b=True\n",
    "\n",
    "if (idade<20 or idade==44):\n",
    "    b = True\n",
    "else:\n",
    "    b =not True\n",
    "    \n",
    "b\n"
   ]
  },
  {
   "cell_type": "code",
   "execution_count": 23,
   "metadata": {},
   "outputs": [
    {
     "data": {
      "text/plain": [
       "True"
      ]
     },
     "execution_count": 23,
     "metadata": {},
     "output_type": "execute_result"
    }
   ],
   "source": [
    "idade = 23\n",
    "b=True\n",
    "\n",
    "if (idade>20 & idade<30):\n",
    "    b = True\n",
    "else:\n",
    "    b =not True\n",
    "    \n",
    "b\n"
   ]
  },
  {
   "cell_type": "code",
   "execution_count": 24,
   "metadata": {},
   "outputs": [
    {
     "data": {
      "text/plain": [
       "True"
      ]
     },
     "execution_count": 24,
     "metadata": {},
     "output_type": "execute_result"
    }
   ],
   "source": [
    "idade = 49\n",
    "b=True\n",
    "\n",
    "if (idade<20 or idade>40):\n",
    "    b = True\n",
    "else:\n",
    "    b =not True\n",
    "    \n",
    "b\n"
   ]
  },
  {
   "cell_type": "code",
   "execution_count": 28,
   "metadata": {},
   "outputs": [
    {
     "data": {
      "text/plain": [
       "True"
      ]
     },
     "execution_count": 28,
     "metadata": {},
     "output_type": "execute_result"
    }
   ],
   "source": [
    "idade = 40\n",
    "salario = 7000\n",
    "b=True\n",
    "\n",
    "if(idade > 20) and (salario < 10000):\n",
    "    b=True\n",
    "else:\n",
    "    b=not True\n",
    "    \n",
    "b\n"
   ]
  },
  {
   "cell_type": "code",
   "execution_count": 29,
   "metadata": {},
   "outputs": [
    {
     "data": {
      "text/plain": [
       "True"
      ]
     },
     "execution_count": 29,
     "metadata": {},
     "output_type": "execute_result"
    }
   ],
   "source": [
    "idade = 20\n",
    "salario = 13000\n",
    "b=True\n",
    "\n",
    "if(idade > 18) and (salario > 10000) and (salario<15000):\n",
    "    b=True\n",
    "else:\n",
    "    b=not True\n",
    "    \n",
    "b"
   ]
  },
  {
   "cell_type": "code",
   "execution_count": 30,
   "metadata": {},
   "outputs": [
    {
     "data": {
      "text/plain": [
       "True"
      ]
     },
     "execution_count": 30,
     "metadata": {},
     "output_type": "execute_result"
    }
   ],
   "source": [
    "idade = 20\n",
    "salario = 13000\n",
    "b=True\n",
    "\n",
    "if(idade > 18) and (salario > 10000) and (salario<15000):\n",
    "    b=True\n",
    "else:\n",
    "    b=not True\n",
    "    \n",
    "b"
   ]
  },
  {
   "cell_type": "code",
   "execution_count": 31,
   "metadata": {},
   "outputs": [
    {
     "data": {
      "text/plain": [
       "False"
      ]
     },
     "execution_count": 31,
     "metadata": {},
     "output_type": "execute_result"
    }
   ],
   "source": [
    "idade = 45\n",
    "salario = 10000\n",
    "b=True\n",
    "\n",
    "if(idade < 40) and (idade < 40) or (salario< 5000):\n",
    "    b=True\n",
    "else:\n",
    "    b=not True\n",
    "    \n",
    "b"
   ]
  },
  {
   "cell_type": "code",
   "execution_count": 33,
   "metadata": {},
   "outputs": [
    {
     "data": {
      "text/plain": [
       "True"
      ]
     },
     "execution_count": 33,
     "metadata": {},
     "output_type": "execute_result"
    }
   ],
   "source": [
    "idade = 38\n",
    "salario = 9000\n",
    "b=True\n",
    "\n",
    "if(idade > 30) and (idade < 40) or (salario< 5000):\n",
    "    b=True\n",
    "else:\n",
    "    b=not True\n",
    "    \n",
    "b"
   ]
  },
  {
   "cell_type": "code",
   "execution_count": 34,
   "metadata": {},
   "outputs": [
    {
     "data": {
      "text/plain": [
       "False"
      ]
     },
     "execution_count": 34,
     "metadata": {},
     "output_type": "execute_result"
    }
   ],
   "source": [
    "idade = 26\n",
    "salario = 8000\n",
    "b=True\n",
    "\n",
    "if((idade > 30) or (idade>60)) and ((salario > 12000) or (salario<9000)):\n",
    "    b=True\n",
    "else:\n",
    "    b=not True\n",
    "    \n",
    "b"
   ]
  },
  {
   "cell_type": "code",
   "execution_count": null,
   "metadata": {},
   "outputs": [],
   "source": []
  }
 ],
 "metadata": {
  "kernelspec": {
   "display_name": "Python 3",
   "language": "python",
   "name": "python3"
  },
  "language_info": {
   "codemirror_mode": {
    "name": "ipython",
    "version": 3
   },
   "file_extension": ".py",
   "mimetype": "text/x-python",
   "name": "python",
   "nbconvert_exporter": "python",
   "pygments_lexer": "ipython3",
   "version": "3.7.6"
  }
 },
 "nbformat": 4,
 "nbformat_minor": 4
}
