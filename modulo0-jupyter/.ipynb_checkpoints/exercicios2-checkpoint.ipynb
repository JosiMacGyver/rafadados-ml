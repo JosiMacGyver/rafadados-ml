{
 "cells": [
  {
   "cell_type": "code",
   "execution_count": 89,
   "metadata": {},
   "outputs": [],
   "source": [
    "import numpy as np"
   ]
  },
  {
   "cell_type": "code",
   "execution_count": 90,
   "metadata": {},
   "outputs": [],
   "source": [
    "idade = np.array([70,  9, 17, 12, 19, 58, 60, 45, 69, 39, 63, 11, 48, 16, 27, 14, 55,\n",
    "       16, 49, 51, 75,  6, 43, 44, 78, 39, 20, 41, 21, 19, 48, 14, 76, 67,\n",
    "       17, 59, 36, 12, 49,  9, 26, 40, 75, 21, 65, 10, 73, 47, 39, 55,  0,\n",
    "       46, 31,  7, 40, 31, 47, 56,  1,  9, 68, 44, 52, 69, 29, 10, 25, 76,\n",
    "       76,  1, 66, 69, 69, 43, 54, 53,  3, 11, 31, 11, 35, 67, 25, 53,  0,\n",
    "       40, 26, 14, 41, 52, 50, 68, 35,  1, 53, 29, 39, 67, 33, 44, 41, 38,\n",
    "       18,  2, 66, 36, 34,  7, 56, 58, 78, 75, 65,  3, 21,  0, 74, 41,  9,\n",
    "       50, 35, 31, 29, 33, 14, 36, 60, 10, 23, 30, 69, 37, 36, 13, 31, 61,\n",
    "       11, 39, 47,  2, 16, 37, 64, 45, 53, 77, 33, 12, 63, 62, 45, 26, 20,\n",
    "       61, 29, 69, 37,  4, 41, 75, 35, 36, 10, 27, 67,  5, 29, 65, 38, 33,\n",
    "       52, 65, 49, 70, 28, 56, 23, 63, 78, 24, 19, 52, 69, 79, 11, 18, 46,\n",
    "       26, 66, 54, 62, 28, 49, 66, 23, 32, 28, 28, 79, 32])\n"
   ]
  },
  {
   "cell_type": "code",
   "execution_count": 91,
   "metadata": {},
   "outputs": [],
   "source": [
    "salario = np.array([15000, 12000,  9000, 27000,  5000, 11000, 10000, 18000, 22000,\n",
    "       17000, 29000, 24000, 23000, 14000, 10000, 17000,  8000, 11000,\n",
    "       13000, 17000, 16000,  8000, 10000, 29000, 23000, 10000, 29000,\n",
    "       20000, 14000, 24000, 11000, 28000, 17000, 29000, 19000, 22000,\n",
    "       20000,  6000, 16000, 23000, 17000, 12000,  6000,  7000, 12000,\n",
    "        5000,  6000, 19000, 10000, 11000, 11000, 26000, 21000, 21000,\n",
    "       28000, 19000,  7000,  5000, 20000,  9000, 17000, 11000, 22000,\n",
    "       17000, 26000,  7000, 27000, 13000, 25000, 28000,  9000,  8000,\n",
    "       13000, 13000, 24000,  6000, 11000,  9000, 24000, 19000,  8000,\n",
    "       19000,  8000, 29000, 24000, 21000, 22000, 14000, 26000, 16000,\n",
    "       11000, 22000, 15000, 26000, 18000, 29000,  6000, 10000, 14000,\n",
    "       10000, 14000, 25000, 15000, 26000, 29000,  9000, 13000, 10000,\n",
    "       10000, 24000, 13000,  8000,  8000, 10000, 10000, 23000,  9000,\n",
    "       29000, 18000, 22000, 11000, 26000,  7000, 12000, 22000, 26000,\n",
    "       25000, 21000, 18000,  9000,  8000, 25000, 23000, 13000, 19000,\n",
    "        7000, 24000, 23000, 23000, 15000, 26000, 12000, 24000, 20000,\n",
    "       29000, 25000, 26000, 15000,  6000, 20000, 21000, 27000,  8000,\n",
    "       15000, 27000,  5000,  7000,  6000, 15000, 14000, 24000, 26000,\n",
    "       16000, 25000,  8000, 20000, 10000,  6000, 13000, 26000, 22000,\n",
    "       25000, 26000, 20000, 25000, 10000, 15000, 11000, 28000,  5000,\n",
    "       25000, 12000,  5000, 27000, 27000, 20000, 25000,  7000, 19000,\n",
    "        6000, 18000, 26000, 12000, 12000, 19000, 22000, 24000, 18000,\n",
    "       16000, 24000])"
   ]
  },
  {
   "cell_type": "code",
   "execution_count": 92,
   "metadata": {},
   "outputs": [
    {
     "data": {
      "text/plain": [
       "array([ True, False, False, False, False,  True,  True,  True,  True,\n",
       "        True,  True, False,  True, False, False, False,  True, False,\n",
       "        True,  True,  True, False,  True,  True,  True,  True, False,\n",
       "        True, False, False,  True, False,  True,  True, False,  True,\n",
       "        True, False,  True, False, False,  True,  True, False,  True,\n",
       "       False,  True,  True,  True,  True, False,  True,  True, False,\n",
       "        True,  True,  True,  True, False, False,  True,  True,  True,\n",
       "        True, False, False, False,  True,  True, False,  True,  True,\n",
       "        True,  True,  True,  True, False, False,  True, False,  True,\n",
       "        True, False,  True, False,  True, False, False,  True,  True,\n",
       "        True,  True,  True, False,  True, False,  True,  True,  True,\n",
       "        True,  True,  True, False, False,  True,  True,  True, False,\n",
       "        True,  True,  True,  True,  True, False, False, False,  True,\n",
       "        True, False,  True,  True,  True, False,  True, False,  True,\n",
       "        True, False, False, False,  True,  True,  True, False,  True,\n",
       "        True, False,  True,  True, False, False,  True,  True,  True,\n",
       "        True,  True,  True, False,  True,  True,  True, False, False,\n",
       "        True, False,  True,  True, False,  True,  True,  True,  True,\n",
       "       False, False,  True, False, False,  True,  True,  True,  True,\n",
       "        True,  True,  True, False,  True, False,  True,  True, False,\n",
       "       False,  True,  True,  True, False, False,  True, False,  True,\n",
       "        True,  True, False,  True,  True, False,  True, False, False,\n",
       "        True,  True])"
      ]
     },
     "execution_count": 92,
     "metadata": {},
     "output_type": "execute_result"
    }
   ],
   "source": [
    "cond = idade>30\n",
    "\n",
    "cond\n",
    "    "
   ]
  },
  {
   "cell_type": "raw",
   "metadata": {},
   "source": []
  },
  {
   "cell_type": "code",
   "execution_count": 87,
   "metadata": {},
   "outputs": [
    {
     "name": "stdout",
     "output_type": "stream",
     "text": [
      "Você errou :'(\n"
     ]
    }
   ],
   "source": [
    "if np.all(cond==filter_resp):\n",
    "    print(\"Sua resposta está certa! \\o/\")\n",
    "else:\n",
    "    print(\"Você errou :'(\")"
   ]
  },
  {
   "cell_type": "code",
   "execution_count": null,
   "metadata": {},
   "outputs": [],
   "source": []
  },
  {
   "cell_type": "code",
   "execution_count": null,
   "metadata": {},
   "outputs": [],
   "source": []
  }
 ],
 "metadata": {
  "kernelspec": {
   "display_name": "Python 3",
   "language": "python",
   "name": "python3"
  },
  "language_info": {
   "codemirror_mode": {
    "name": "ipython",
    "version": 3
   },
   "file_extension": ".py",
   "mimetype": "text/x-python",
   "name": "python",
   "nbconvert_exporter": "python",
   "pygments_lexer": "ipython3",
   "version": "3.7.6"
  }
 },
 "nbformat": 4,
 "nbformat_minor": 4
}
