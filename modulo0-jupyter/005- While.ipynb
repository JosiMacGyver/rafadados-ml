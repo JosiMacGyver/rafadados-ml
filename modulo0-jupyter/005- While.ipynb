{
 "cells": [
  {
   "cell_type": "code",
   "execution_count": 19,
   "metadata": {},
   "outputs": [],
   "source": [
    "salario = 3000\n",
    "i=0"
   ]
  },
  {
   "cell_type": "code",
   "execution_count": 20,
   "metadata": {},
   "outputs": [
    {
     "name": "stdout",
     "output_type": "stream",
     "text": [
      "2970.0\n",
      "2940.3\n",
      "2910.897\n",
      "2881.7880299999997\n",
      "2852.9701496999996\n",
      "2824.4404482029995\n",
      "2796.1960437209696\n",
      "2768.23408328376\n",
      "2740.551742450922\n"
     ]
    }
   ],
   "source": [
    "while salario < 3300:\n",
    "    salario = salario*0.99\n",
    "    i = i+ 1\n",
    "    if i>= 10:\n",
    "        break\n",
    "        \n",
    "   \n",
    "    print(salario)\n",
    "\n",
    "    salario\n"
   ]
  },
  {
   "cell_type": "code",
   "execution_count": null,
   "metadata": {},
   "outputs": [],
   "source": []
  },
  {
   "cell_type": "code",
   "execution_count": null,
   "metadata": {},
   "outputs": [],
   "source": []
  }
 ],
 "metadata": {
  "kernelspec": {
   "display_name": "Python 3",
   "language": "python",
   "name": "python3"
  },
  "language_info": {
   "codemirror_mode": {
    "name": "ipython",
    "version": 3
   },
   "file_extension": ".py",
   "mimetype": "text/x-python",
   "name": "python",
   "nbconvert_exporter": "python",
   "pygments_lexer": "ipython3",
   "version": "3.7.6"
  }
 },
 "nbformat": 4,
 "nbformat_minor": 4
}
